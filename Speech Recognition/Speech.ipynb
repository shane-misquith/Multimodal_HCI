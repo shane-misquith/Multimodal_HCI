{
 "cells": [
  {
   "cell_type": "code",
   "execution_count": 1,
   "metadata": {},
   "outputs": [],
   "source": [
    "import speech_recognition as sr"
   ]
  },
  {
   "cell_type": "code",
   "execution_count": null,
   "metadata": {},
   "outputs": [
    {
     "name": "stdout",
     "output_type": "stream",
     "text": [
      "Say something!\n",
      "right click\n",
      "Say something!\n",
      "open\n",
      "Say something!\n",
      "close\n",
      "Say something!\n",
      "double click\n",
      "Say something!\n",
      "left click\n",
      "Say something!\n",
      "copy folder 1 to folder 2\n",
      "Command isn't recognised\n",
      "Say something!\n"
     ]
    }
   ],
   "source": [
    "r = sr.Recognizer()\n",
    "flag = True\n",
    "while(flag):\n",
    "    with sr.Microphone() as source:\n",
    "        print(\"Say something!\")\n",
    "        audio = r.listen(source)\n",
    "    try:\n",
    "        command = r.recognize_google(audio)\n",
    "        if(command == 'right click' or command == 'left click' or command == 'double click' or command == 'open' or command == 'close'):\n",
    "#             flag = False\n",
    "            print(command)\n",
    "        elif(command == 'done'):\n",
    "            flag = False\n",
    "        else:\n",
    "            print(command)\n",
    "            print(\"Command isn't recognised\")\n",
    "    except sr.UnknownValueError:\n",
    "        print(\"Speech isn't recognised please repeat again\")"
   ]
  },
  {
   "cell_type": "code",
   "execution_count": null,
   "metadata": {},
   "outputs": [],
   "source": []
  }
 ],
 "metadata": {
  "kernelspec": {
   "display_name": "Python 3",
   "language": "python",
   "name": "python3"
  },
  "language_info": {
   "codemirror_mode": {
    "name": "ipython",
    "version": 3
   },
   "file_extension": ".py",
   "mimetype": "text/x-python",
   "name": "python",
   "nbconvert_exporter": "python",
   "pygments_lexer": "ipython3",
   "version": "3.7.4"
  }
 },
 "nbformat": 4,
 "nbformat_minor": 2
}
