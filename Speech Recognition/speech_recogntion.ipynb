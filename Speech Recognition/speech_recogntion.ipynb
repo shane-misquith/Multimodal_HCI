{
 "cells": [
  {
   "cell_type": "code",
   "execution_count": null,
   "id": "ruled-museum",
   "metadata": {},
   "outputs": [
    {
     "name": "stdout",
     "output_type": "stream",
     "text": [
      "Say something!\n",
      "double click double click\n",
      "Command isn't recognised\n",
      "Say something!\n",
      "Speech isn't recognised please repeat again\n",
      "Say something!\n",
      "single click\n",
      "Command isn't recognised\n",
      "Say something!\n",
      "Speech isn't recognised please repeat again\n",
      "Say something!\n",
      "double click\n",
      "Say something!\n"
     ]
    }
   ],
   "source": [
    "import speech_recognition as sr\n",
    "import pyaudio\n",
    "import time\n",
    "import win32api, win32con\n",
    "\n",
    "def mouse_left_click():\n",
    "    win32api.mouse_event(win32con.MOUSEEVENTF_LEFTDOWN,0,0)\n",
    "    time.sleep(0.01)\n",
    "    win32api.mouse_event(win32con.MOUSEEVENTF_LEFTUP,0,0)\n",
    "\n",
    "def mouse_right_click():\n",
    "    win32api.mouse_event(win32con.MOUSEEVENTF_RIGHTDOWN,0,0)\n",
    "    time.sleep(0.01)\n",
    "    win32api.mouse_event(win32con.MOUSEEVENTF_RIGHTUP,0,0)\n",
    "    \n",
    "r = sr.Recognizer()\n",
    "flag = True\n",
    "\n",
    "while(flag):\n",
    "    with sr.Microphone() as source:\n",
    "        print(\"Say something!\")\n",
    "        audio = r.listen(source)\n",
    "        \n",
    "    try:\n",
    "        command = r.recognize_google(audio)\n",
    "            \n",
    "        if(command == 'double click' or command == 'open'):\n",
    "#             flag = False\n",
    "            print(command)\n",
    "            mouse_left_click()\n",
    "            mouse_left_click()\n",
    "            \n",
    "        elif(command == 'left click' or command == 'click'):\n",
    "#             flag = False\n",
    "            print(command)\n",
    "            mouse_left_click()\n",
    "        \n",
    "        elif(command == 'right click'):\n",
    "#             flag = False\n",
    "            print(command)\n",
    "            mouse_right_click()\n",
    "            \n",
    "        elif(command == 'done'):\n",
    "            flag = False\n",
    "            print(command)\n",
    "        else:\n",
    "            print(command)\n",
    "            print(\"Command isn't recognised\")\n",
    "    except sr.UnknownValueError:\n",
    "        print(\"Speech isn't recognised please repeat again\")"
   ]
  },
  {
   "cell_type": "code",
   "execution_count": null,
   "id": "offshore-control",
   "metadata": {},
   "outputs": [],
   "source": []
  }
 ],
 "metadata": {
  "kernelspec": {
   "display_name": "Python 3",
   "language": "python",
   "name": "python3"
  },
  "language_info": {
   "codemirror_mode": {
    "name": "ipython",
    "version": 3
   },
   "file_extension": ".py",
   "mimetype": "text/x-python",
   "name": "python",
   "nbconvert_exporter": "python",
   "pygments_lexer": "ipython3",
   "version": "3.8.5"
  }
 },
 "nbformat": 4,
 "nbformat_minor": 5
}
